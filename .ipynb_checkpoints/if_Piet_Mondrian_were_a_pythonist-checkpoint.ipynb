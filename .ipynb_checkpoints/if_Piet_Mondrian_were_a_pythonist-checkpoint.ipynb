{
 "cells": [
  {
   "cell_type": "code",
   "execution_count": 1,
   "metadata": {
    "collapsed": false
   },
   "outputs": [],
   "source": [
    "import matplotlib.pyplot as plt\n",
    "from matplotlib.patches import Rectangle\n",
    "%matplotlib inline"
   ]
  },
  {
   "cell_type": "code",
   "execution_count": 2,
   "metadata": {
    "collapsed": false
   },
   "outputs": [
    {
     "data": {
      "text/plain": [
       "<matplotlib.lines.Line2D at 0x1dcc12de7f0>"
      ]
     },
     "execution_count": 2,
     "metadata": {},
     "output_type": "execute_result"
    },
    {
     "data": {
      "image/png": "[encoded data removed]",
      "text/plain": [
       "<matplotlib.figure.Figure at 0x1dcbf1e48d0>"
      ]
     },
     "metadata": {},
     "output_type": "display_data"
    }
   ],
   "source": [
    "\n",
    "# --- size ---\n",
    "x_min, x_max = 0, 10\n",
    "y_min, y_max = 0, 10\n",
    "\n",
    "# --- composition---\n",
    "# vertical\n",
    "v_1 = .1\n",
    "v_2 = .23\n",
    "v_3 = .36\n",
    "v_4 = .62\n",
    "v_5 = .79\n",
    "v_6 = .96\n",
    "\n",
    "# horizontal\n",
    "h_1 = .04\n",
    "h_2 = .11\n",
    "h_3 = .24\n",
    "h_4 = .37\n",
    "h_5 = .635\n",
    "h_6 = .9\n",
    "\n",
    "# line\n",
    "l_width = 7\n",
    "width_offset = 0.1\n",
    "\n",
    "# margin\n",
    "l_margin_1 = .04\n",
    "l_margin_2 = .02\n",
    "\n",
    "# --- color ---\n",
    "red_color = '#de1316'\n",
    "yellow_color = '#fadd39'\n",
    "blue_color = '#026AB3'\n",
    "black_color_line = '#0C0C0C'\n",
    "black_color_fill = '#060805'\n",
    "bg_color = '#F6F8F7'\n",
    "\n",
    "# --- plot ---\n",
    "plt.figure(figsize=(5, 5))\n",
    "ax = plt.axes()\n",
    "ax.set_facecolor(bg_color)\n",
    "\n",
    "ax.tick_params(labelbottom=\"off\", bottom=\"off\")\n",
    "ax.tick_params(labelleft=\"off\", left=\"off\")\n",
    "\n",
    "plt.fill(0, 10, color=red_color)\n",
    "plt.ylim(0, 10)\n",
    "plt.xlim(0, 10)\n",
    "\n",
    "# fill\n",
    "r_1 = Rectangle(xy=(x_min, y_min), width=x_max * v_1 + width_offset,\n",
    "                height=y_max * h_3 + width_offset, color=yellow_color)\n",
    "r_2 = Rectangle(xy=(x_max * v_1, y_max * h_2), width=x_max * (v_3 - v_1),\n",
    "                height=y_max * (h_4 - h_2), color=black_color_fill)\n",
    "r_3 = Rectangle(xy=(x_max * v_1, y_max * h_4), width=x_max * (v_4 - v_1),\n",
    "                height=y_max * (h_6 - h_4), color=red_color)\n",
    "r_4 = Rectangle(xy=(x_max * v_3, y_max * h_1), width=x_max * (v_4 - v_3),\n",
    "                height=y_max * (h_2 - h_1), color=black_color_fill)\n",
    "r_5 = Rectangle(xy=(x_max * v_4, y_max * h_1), width=x_max * (v_6 - v_4),\n",
    "                height=y_max * (h_3 - h_1), color=blue_color)\n",
    "r_6 = Rectangle(xy=(x_max * v_6, y_max * 0), width=x_max * (1 - v_6),\n",
    "                height=y_max * (h_3 - 0), color=red_color)\n",
    "r_7 = Rectangle(xy=(x_max * v_4, y_max * h_5), width=x_max * (v_6 - v_4),\n",
    "                height=y_max * (1 - h_5), color=yellow_color)\n",
    "\n",
    "ax.add_patch(r_1)\n",
    "ax.add_patch(r_2)\n",
    "ax.add_patch(r_3)\n",
    "ax.add_patch(r_4)\n",
    "ax.add_patch(r_5)\n",
    "ax.add_patch(r_6)\n",
    "ax.add_patch(r_7)\n",
    "\n",
    "# vertical　line\n",
    "plt.axvline(x=x_max * v_1, ymin=y_min + l_margin_1, ymax=h_6,\n",
    "            linewidth=l_width, color=black_color_line)\n",
    "plt.axvline(x=x_max * v_2, ymin=h_6, ymax=1 - l_margin_1,\n",
    "            linewidth=l_width, color=black_color_line)\n",
    "plt.axvline(x=x_max * v_3, ymin=0, ymax=h_4,\n",
    "            linewidth=l_width, color=black_color_line)\n",
    "plt.axvline(x=x_max * v_4, ymin=h_1, ymax=1,\n",
    "            linewidth=l_width, color=black_color_line)\n",
    "plt.axvline(x=x_max * v_5, ymin=h_4, ymax=h_5,\n",
    "            linewidth=l_width, color=black_color_line)\n",
    "plt.axvline(x=x_max * v_6, ymin=0, ymax=1 - l_margin_2,\n",
    "            linewidth=l_width, color=black_color_line)\n",
    "\n",
    "# horizontal line\n",
    "plt.axhline(y=y_max * h_1, xmin=v_3, xmax=v_6,\n",
    "            linewidth=l_width, color=black_color_line)\n",
    "plt.axhline(y=y_max * h_2, xmin=v_1, xmax=v_4,\n",
    "            linewidth=l_width, color=black_color_line)\n",
    "plt.axhline(y=y_max * h_3, xmin=0 + l_margin_2, xmax=1,\n",
    "            linewidth=l_width, color=black_color_line)\n",
    "plt.axhline(y=y_max * h_4, xmin=v_1, xmax=v_6,\n",
    "            linewidth=l_width, color=black_color_line)\n",
    "plt.axhline(y=y_max * h_5, xmin=0 + l_margin_2, xmax=v_1,\n",
    "            linewidth=l_width, color=black_color_line)\n",
    "plt.axhline(y=y_max * h_5, xmin=v_4, xmax=v_6,\n",
    "            linewidth=l_width, color=black_color_line)\n",
    "plt.axhline(y=y_max * h_6, xmin=0+l_margin_2, xmax=v_6,\n",
    "            linewidth=l_width, color=black_color_line)\n"
   ]
  },
  {
   "cell_type": "code",
   "execution_count": 4,
   "metadata": {
    "collapsed": true
   },
   "outputs": [],
   "source": [
    "from IPython.display import Image, display_png\n",
    "display_png(Image('img/piet-mondrian.jpg'))"
   ]
  },
  {
   "cell_type": "code",
   "execution_count": null,
   "metadata": {
    "collapsed": true
   },
   "outputs": [],
   "source": []
  }
 ],
 "metadata": {
  "kernelspec": {
   "display_name": "Python 3",
   "language": "python",
   "name": "python3"
  },
  "language_info": {
   "codemirror_mode": {
    "name": "ipython",
    "version": 3
   },
   "file_extension": ".py",
   "mimetype": "text/x-python",
   "name": "python",
   "nbconvert_exporter": "python",
   "pygments_lexer": "ipython3",
   "version": "3.6.0"
  }
 },
 "nbformat": 4,
 "nbformat_minor": 2
}
